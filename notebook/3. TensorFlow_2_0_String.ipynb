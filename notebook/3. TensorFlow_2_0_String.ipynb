{
  "nbformat": 4,
  "nbformat_minor": 0,
  "metadata": {
    "colab": {
      "name": "3. TensorFlow 2.0: String.ipynb",
      "provenance": []
    },
    "kernelspec": {
      "name": "python3",
      "display_name": "Python 3"
    },
    "accelerator": "GPU"
  },
  "cells": [
    {
      "cell_type": "code",
      "metadata": {
        "id": "tsqTgLCNbMYy",
        "colab_type": "code",
        "colab": {}
      },
      "source": [
        " !pip install tensorflow==2.0.0-rc1"
      ],
      "execution_count": 0,
      "outputs": []
    },
    {
      "cell_type": "code",
      "metadata": {
        "id": "QG1WNC96bZG9",
        "colab_type": "code",
        "outputId": "1ae9b7af-c6cc-41f7-cbf0-e43815cafda7",
        "colab": {
          "base_uri": "https://localhost:8080/",
          "height": 34
        }
      },
      "source": [
        "import tensorflow as tf\n",
        "tf.__version__"
      ],
      "execution_count": 0,
      "outputs": [
        {
          "output_type": "execute_result",
          "data": {
            "text/plain": [
              "'2.0.0-rc1'"
            ]
          },
          "metadata": {
            "tags": []
          },
          "execution_count": 1
        }
      ]
    },
    {
      "cell_type": "code",
      "metadata": {
        "id": "wt-prXbGbnZf",
        "colab_type": "code",
        "colab": {}
      },
      "source": [
        "tf_string = tf.constant(\"Hello world!\")"
      ],
      "execution_count": 0,
      "outputs": []
    },
    {
      "cell_type": "code",
      "metadata": {
        "id": "qLMxoOY1cE94",
        "colab_type": "code",
        "outputId": "9c59ed4e-9c93-4096-f55e-5a7cdb9b3d96",
        "colab": {
          "base_uri": "https://localhost:8080/",
          "height": 34
        }
      },
      "source": [
        "tf_string"
      ],
      "execution_count": 0,
      "outputs": [
        {
          "output_type": "execute_result",
          "data": {
            "text/plain": [
              "<tf.Tensor: id=0, shape=(), dtype=string, numpy=b'Hello world!'>"
            ]
          },
          "metadata": {
            "tags": []
          },
          "execution_count": 3
        }
      ]
    },
    {
      "cell_type": "code",
      "metadata": {
        "id": "yp6JPHtrcHDr",
        "colab_type": "code",
        "outputId": "e33dc236-4fc2-4327-e5c4-ad4789498143",
        "colab": {
          "base_uri": "https://localhost:8080/",
          "height": 34
        }
      },
      "source": [
        "tf_string.numpy()"
      ],
      "execution_count": 0,
      "outputs": [
        {
          "output_type": "execute_result",
          "data": {
            "text/plain": [
              "b'Hello world!'"
            ]
          },
          "metadata": {
            "tags": []
          },
          "execution_count": 4
        }
      ]
    },
    {
      "cell_type": "code",
      "metadata": {
        "id": "vuWbboc8cK2i",
        "colab_type": "code",
        "outputId": "46a00a17-78f0-4f52-e5eb-dcc4c14ce6f0",
        "colab": {
          "base_uri": "https://localhost:8080/",
          "height": 34
        }
      },
      "source": [
        "tf.strings.lower(tf_string)"
      ],
      "execution_count": 0,
      "outputs": [
        {
          "output_type": "execute_result",
          "data": {
            "text/plain": [
              "<tf.Tensor: id=1, shape=(), dtype=string, numpy=b'hello world!'>"
            ]
          },
          "metadata": {
            "tags": []
          },
          "execution_count": 5
        }
      ]
    },
    {
      "cell_type": "code",
      "metadata": {
        "id": "L10l3Vm-cbOp",
        "colab_type": "code",
        "outputId": "15056e7e-db69-45c9-9fc0-fadf2dea82eb",
        "colab": {
          "base_uri": "https://localhost:8080/",
          "height": 34
        }
      },
      "source": [
        "tf.strings.length(tf_string)"
      ],
      "execution_count": 0,
      "outputs": [
        {
          "output_type": "execute_result",
          "data": {
            "text/plain": [
              "<tf.Tensor: id=2, shape=(), dtype=int32, numpy=12>"
            ]
          },
          "metadata": {
            "tags": []
          },
          "execution_count": 6
        }
      ]
    },
    {
      "cell_type": "code",
      "metadata": {
        "id": "ctmj7KDQcfsX",
        "colab_type": "code",
        "outputId": "193b33c9-d821-4734-d6d4-73655c2a5369",
        "colab": {
          "base_uri": "https://localhost:8080/",
          "height": 68
        }
      },
      "source": [
        "tf.strings.unicode_decode(tf_string,\"utf-8\")"
      ],
      "execution_count": 0,
      "outputs": [
        {
          "output_type": "execute_result",
          "data": {
            "text/plain": [
              "<tf.Tensor: id=6, shape=(12,), dtype=int32, numpy=\n",
              "array([ 72, 101, 108, 108, 111,  32, 119, 111, 114, 108, 100,  33],\n",
              "      dtype=int32)>"
            ]
          },
          "metadata": {
            "tags": []
          },
          "execution_count": 8
        }
      ]
    },
    {
      "cell_type": "code",
      "metadata": {
        "id": "ISi8HkRTdVrC",
        "colab_type": "code",
        "colab": {}
      },
      "source": [
        "tf_string_array = tf.constant([\"TensorFlow\", \"Deep Learning\", \"AI\"])"
      ],
      "execution_count": 0,
      "outputs": []
    },
    {
      "cell_type": "code",
      "metadata": {
        "id": "ghhsFptvdudD",
        "colab_type": "code",
        "outputId": "9fedf0e5-d596-46aa-b78a-e360159c573b",
        "colab": {
          "base_uri": "https://localhost:8080/",
          "height": 54
        }
      },
      "source": [
        "tf_string_array"
      ],
      "execution_count": 0,
      "outputs": [
        {
          "output_type": "execute_result",
          "data": {
            "text/plain": [
              "<tf.Tensor: id=7, shape=(3,), dtype=string, numpy=array([b'TensorFlow', b'Deep Learning', b'AI'], dtype=object)>"
            ]
          },
          "metadata": {
            "tags": []
          },
          "execution_count": 14
        }
      ]
    },
    {
      "cell_type": "code",
      "metadata": {
        "id": "JHRUFLuQdvxY",
        "colab_type": "code",
        "outputId": "fb5739b6-0711-4ad8-dc78-26c8a73a8713",
        "colab": {
          "base_uri": "https://localhost:8080/",
          "height": 34
        }
      },
      "source": [
        "tf_string_array.numpy()"
      ],
      "execution_count": 0,
      "outputs": [
        {
          "output_type": "execute_result",
          "data": {
            "text/plain": [
              "array([b'TensorFlow', b'Deep Learning', b'AI'], dtype=object)"
            ]
          },
          "metadata": {
            "tags": []
          },
          "execution_count": 15
        }
      ]
    },
    {
      "cell_type": "code",
      "metadata": {
        "id": "9d-bNcG8dyKi",
        "colab_type": "code",
        "outputId": "de765e64-22c3-4d24-f808-e7d02cd20a1e",
        "colab": {
          "base_uri": "https://localhost:8080/",
          "height": 68
        }
      },
      "source": [
        "for tf_string in tf_string_array:\n",
        "  print(tf_string)"
      ],
      "execution_count": 0,
      "outputs": [
        {
          "output_type": "stream",
          "text": [
            "tf.Tensor(b'TensorFlow', shape=(), dtype=string)\n",
            "tf.Tensor(b'Deep Learning', shape=(), dtype=string)\n",
            "tf.Tensor(b'AI', shape=(), dtype=string)\n"
          ],
          "name": "stdout"
        }
      ]
    },
    {
      "cell_type": "code",
      "metadata": {
        "id": "SqcHzVlTd6BQ",
        "colab_type": "code",
        "colab": {}
      },
      "source": [
        ""
      ],
      "execution_count": 0,
      "outputs": []
    }
  ]
}